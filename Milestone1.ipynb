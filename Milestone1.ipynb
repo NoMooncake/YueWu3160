{
  "cells": [
    {
      "cell_type": "markdown",
      "id": "1c5c64e3",
      "metadata": {
        "id": "1c5c64e3"
      },
      "source": [
        "\n",
        "#  Milestone 1: Data Selection, ETL, and Preliminary Analysis\n",
        "\n",
        "## **1. Project Overview**\n",
        "The objective of this project is to analyze **TikTok and YouTube trending videos** to identify key factors influencing video virality and social media engagement.\n",
        "\n",
        "I will use **Google Drive** to store the datasets and publish results on **GitHub Pages**.\n",
        "\n",
        "## **2. Selected Datasets**\n",
        "### ** TikTok & YouTube Trending Videos Datasets**\n",
        "These datasets are sourced from Kaggle and have been uploaded to Google Drive. The analysis will focus on:\n",
        "- **TikTok Dataset** (stored at `/content/drive/MyDrive/Colab Notebooks/Data Science/Final/Tiktok/`)\n",
        "- **YouTube Dataset** (stored at `/content/drive/MyDrive/Colab Notebooks/Data Science/Final/Youtube/`)\n",
        "\n",
        "### **Research Questions**\n",
        "1. What types of videos (duration, title style, music) are more likely to go viral on TikTok and YouTube?\n",
        "2. What are the key factors influencing social media engagement (likes, comments, shares)?\n",
        "\n",
        "## **3. Connecting Google Drive and Loading Data**\n"
      ]
    },
    {
      "cell_type": "code",
      "source": [
        "from google.colab import drive\n",
        "import pandas as pd\n",
        "\n",
        "# Mount Google Drive\n",
        "drive.mount('/content/drive')"
      ],
      "metadata": {
        "colab": {
          "base_uri": "https://localhost:8080/"
        },
        "id": "Lj-29Q-w_b52",
        "outputId": "e64fa464-3703-4755-df78-3c5ffe390b4d"
      },
      "id": "Lj-29Q-w_b52",
      "execution_count": 2,
      "outputs": [
        {
          "output_type": "stream",
          "name": "stdout",
          "text": [
            "Drive already mounted at /content/drive; to attempt to forcibly remount, call drive.mount(\"/content/drive\", force_remount=True).\n"
          ]
        }
      ]
    },
    {
      "cell_type": "code",
      "execution_count": 3,
      "id": "98cd0e59",
      "metadata": {
        "colab": {
          "base_uri": "https://localhost:8080/"
        },
        "id": "98cd0e59",
        "outputId": "86424249-8165-42ed-ddbf-d91b26e3f6b2"
      },
      "outputs": [
        {
          "output_type": "execute_result",
          "data": {
            "text/plain": [
              "(       user_name              user_id             video_id  \\\n",
              " 0  mickfleetwood  6878763511033054213  6879849755204259077   \n",
              " 1  aarongoldyboy  6784404408140088326  6872809542338596101   \n",
              " 2         abimhn  6757970616114070534  6863625541254155526   \n",
              " 3   heybriajones  6609395315488342021  6862342029926616325   \n",
              " 4   samuelgrubbs  6734403205457642502  6859886359826468101   \n",
              " \n",
              "                                           video_desc  video_time  \\\n",
              " 0  @420doggface208 had it right. Dreams and Cranb...  1601839889   \n",
              " 1  #duet with @dmichaelburke #greenscreen #lovest...  1600200680   \n",
              " 2  mochi ice cream or rocks from the beach? 😂 #fy...  1598062361   \n",
              " 3  So excited I can use the Alexa app to record v...  1597763517   \n",
              " 4  Wait for it... this took us so so long, please...  1597191763   \n",
              " \n",
              "    video_length                                         video_link  n_likes  \\\n",
              " 0            20  https://www.tiktok.com/@mickfleetwood/video/68...  1800000   \n",
              " 1            59  https://www.tiktok.com/@aarongoldyboy/video/68...   337000   \n",
              " 2            56  https://www.tiktok.com/@abimhn/video/686362554...   168500   \n",
              " 3            15  https://www.tiktok.com/@heybriajones/video/686...    48800   \n",
              " 4            19  https://www.tiktok.com/@samuelgrubbs/video/685...  2800000   \n",
              " \n",
              "    n_shares  n_comments   n_plays  \n",
              " 0    105500       25100   9500000  \n",
              " 1      5744        2490   1300000  \n",
              " 2      5026        1390    913400  \n",
              " 3       429         658    645400  \n",
              " 4     44300       25100  15900000  ,\n",
              "       video_id trending_date  \\\n",
              " 0  2kyS6SvSYSE      17.14.11   \n",
              " 1  1ZAPwfrtAFY      17.14.11   \n",
              " 2  5qpjK5DgCt4      17.14.11   \n",
              " 3  puqaWrEC7tY      17.14.11   \n",
              " 4  d380meD0W0M      17.14.11   \n",
              " \n",
              "                                                title          channel_title  \\\n",
              " 0                 WE WANT TO TALK ABOUT OUR MARRIAGE           CaseyNeistat   \n",
              " 1  The Trump Presidency: Last Week Tonight with J...        LastWeekTonight   \n",
              " 2  Racist Superman | Rudy Mancuso, King Bach & Le...           Rudy Mancuso   \n",
              " 3                   Nickelback Lyrics: Real or Fake?  Good Mythical Morning   \n",
              " 4                           I Dare You: GOING BALD!?               nigahiga   \n",
              " \n",
              "    category_id              publish_time  \\\n",
              " 0           22  2017-11-13T17:13:01.000Z   \n",
              " 1           24  2017-11-13T07:30:00.000Z   \n",
              " 2           23  2017-11-12T19:05:24.000Z   \n",
              " 3           24  2017-11-13T11:00:04.000Z   \n",
              " 4           24  2017-11-12T18:01:41.000Z   \n",
              " \n",
              "                                                 tags    views   likes  \\\n",
              " 0                                    SHANtell martin   748374   57527   \n",
              " 1  last week tonight trump presidency|\"last week ...  2418783   97185   \n",
              " 2  racist superman|\"rudy\"|\"mancuso\"|\"king\"|\"bach\"...  3191434  146033   \n",
              " 3  rhett and link|\"gmm\"|\"good mythical morning\"|\"...   343168   10172   \n",
              " 4  ryan|\"higa\"|\"higatv\"|\"nigahiga\"|\"i dare you\"|\"...  2095731  132235   \n",
              " \n",
              "    dislikes  comment_count                                  thumbnail_link  \\\n",
              " 0      2966          15954  https://i.ytimg.com/vi/2kyS6SvSYSE/default.jpg   \n",
              " 1      6146          12703  https://i.ytimg.com/vi/1ZAPwfrtAFY/default.jpg   \n",
              " 2      5339           8181  https://i.ytimg.com/vi/5qpjK5DgCt4/default.jpg   \n",
              " 3       666           2146  https://i.ytimg.com/vi/puqaWrEC7tY/default.jpg   \n",
              " 4      1989          17518  https://i.ytimg.com/vi/d380meD0W0M/default.jpg   \n",
              " \n",
              "    comments_disabled  ratings_disabled  video_error_or_removed  \\\n",
              " 0              False             False                   False   \n",
              " 1              False             False                   False   \n",
              " 2              False             False                   False   \n",
              " 3              False             False                   False   \n",
              " 4              False             False                   False   \n",
              " \n",
              "                                          description  \n",
              " 0  SHANTELL'S CHANNEL - https://www.youtube.com/s...  \n",
              " 1  One year after the presidential election, John...  \n",
              " 2  WATCH MY PREVIOUS VIDEO ▶ \\n\\nSUBSCRIBE ► http...  \n",
              " 3  Today we find out if Link is a Nickelback amat...  \n",
              " 4  I know it's been a while since we did this sho...  )"
            ]
          },
          "metadata": {},
          "execution_count": 3
        }
      ],
      "source": [
        "# Load TikTok Dataset\n",
        "tiktok_path = \"/content/drive/MyDrive/Colab Notebooks/Data Science/Final/Tiktok/tiktok_liked_videos.csv\"\n",
        "tiktok_df = pd.read_csv(tiktok_path)\n",
        "\n",
        "# Load YouTube Dataset\n",
        "youtube_path = \"/content/drive/MyDrive/Colab Notebooks/Data Science/Final/Youtube/USvideos.csv\"\n",
        "youtube_df = pd.read_csv(youtube_path)\n",
        "\n",
        "# Display dataset samples\n",
        "tiktok_df.head(), youtube_df.head()\n"
      ]
    },
    {
      "cell_type": "markdown",
      "id": "84e0c357",
      "metadata": {
        "id": "84e0c357"
      },
      "source": [
        "\n",
        "## **4. Data Cleaning (ETL: Extraction, Transformation, and Loading)**\n",
        "Performed the following data cleaning steps:\n",
        "- **Removed missing values** to ensure data integrity.\n",
        "- **Converted date columns** to standardized datetime format.\n",
        "- **Selected relevant columns** to retain key metrics.\n",
        "\n",
        "### **Data Cleaning Process**\n"
      ]
    },
    {
      "cell_type": "code",
      "source": [
        "print(tiktok_df.columns)\n",
        "print(youtube_df.columns)"
      ],
      "metadata": {
        "colab": {
          "base_uri": "https://localhost:8080/"
        },
        "id": "_ejTAN2KA3fT",
        "outputId": "11578828-781b-42f3-a050-0debf8acdf95"
      },
      "id": "_ejTAN2KA3fT",
      "execution_count": 6,
      "outputs": [
        {
          "output_type": "stream",
          "name": "stdout",
          "text": [
            "Index(['user_name', 'user_id', 'video_id', 'video_desc', 'video_time',\n",
            "       'video_length', 'video_link', 'n_likes', 'n_shares', 'n_comments',\n",
            "       'n_plays'],\n",
            "      dtype='object')\n",
            "Index(['video_id', 'trending_date', 'title', 'channel_title', 'category_id',\n",
            "       'publish_time', 'tags', 'views', 'likes', 'dislikes', 'comment_count',\n",
            "       'thumbnail_link', 'comments_disabled', 'ratings_disabled',\n",
            "       'video_error_or_removed', 'description'],\n",
            "      dtype='object')\n"
          ]
        }
      ]
    },
    {
      "cell_type": "code",
      "execution_count": 7,
      "id": "ffb91ef7",
      "metadata": {
        "colab": {
          "base_uri": "https://localhost:8080/"
        },
        "id": "ffb91ef7",
        "outputId": "ae08cc05-0031-479c-e78f-60cf4aef4e61"
      },
      "outputs": [
        {
          "output_type": "execute_result",
          "data": {
            "text/plain": [
              "(              video_id  n_likes  n_shares   n_plays  n_comments\n",
              " 0  6879849755204259077  1800000    105500   9500000       25100\n",
              " 1  6872809542338596101   337000      5744   1300000        2490\n",
              " 2  6863625541254155526   168500      5026    913400        1390\n",
              " 3  6862342029926616325    48800       429    645400         658\n",
              " 4  6859886359826468101  2800000     44300  15900000       25100,\n",
              "       video_id                                              title    views  \\\n",
              " 0  2kyS6SvSYSE                 WE WANT TO TALK ABOUT OUR MARRIAGE   748374   \n",
              " 1  1ZAPwfrtAFY  The Trump Presidency: Last Week Tonight with J...  2418783   \n",
              " 2  5qpjK5DgCt4  Racist Superman | Rudy Mancuso, King Bach & Le...  3191434   \n",
              " 3  puqaWrEC7tY                   Nickelback Lyrics: Real or Fake?   343168   \n",
              " 4  d380meD0W0M                           I Dare You: GOING BALD!?  2095731   \n",
              " \n",
              "     likes  comment_count  \n",
              " 0   57527          15954  \n",
              " 1   97185          12703  \n",
              " 2  146033           8181  \n",
              " 3   10172           2146  \n",
              " 4  132235          17518  )"
            ]
          },
          "metadata": {},
          "execution_count": 7
        }
      ],
      "source": [
        "# Remove missing values\n",
        "tiktok_df.dropna(inplace=True)\n",
        "youtube_df.dropna(inplace=True)\n",
        "\n",
        "# Convert timestamps (if available)\n",
        "if 'upload_date' in tiktok_df.columns:\n",
        "    tiktok_df['upload_date'] = pd.to_datetime(tiktok_df['upload_date'])\n",
        "if 'publish_time' in youtube_df.columns:\n",
        "    youtube_df['publish_time'] = pd.to_datetime(youtube_df['publish_time'])\n",
        "\n",
        "# Select key columns\n",
        "youtube_df = youtube_df[['video_id', 'title', 'views', 'likes', 'comment_count']]\n",
        "tiktok_df = tiktok_df[['video_id', 'n_likes', 'n_shares', 'n_plays', 'n_comments']]\n",
        "\n",
        "# Display cleaned data\n",
        "tiktok_df.head(), youtube_df.head()\n"
      ]
    },
    {
      "cell_type": "markdown",
      "id": "4ad92eeb",
      "metadata": {
        "id": "4ad92eeb"
      },
      "source": [
        "\n",
        "## **5. Exploratory Data Analysis (EDA)**\n",
        "Computed key statistics and visualized trends in engagement metrics.\n",
        "\n",
        "### **Basic Statistics**\n"
      ]
    },
    {
      "cell_type": "code",
      "execution_count": 10,
      "id": "3d0b0ed5",
      "metadata": {
        "colab": {
          "base_uri": "https://localhost:8080/"
        },
        "id": "3d0b0ed5",
        "outputId": "7fcf27b6-7e51-46ed-d51e-7616e3bb2138"
      },
      "outputs": [
        {
          "output_type": "stream",
          "name": "stdout",
          "text": [
            "TikTok Dataset Statistics:\n",
            "            video_id       n_likes       n_shares       n_plays    n_comments\n",
            "count  1.000000e+01  1.000000e+01      10.000000  1.000000e+01     10.000000\n",
            "mean   6.853747e+18  9.328500e+05   20154.000000  7.083480e+06   7946.500000\n",
            "std    1.784187e+16  1.086163e+06   33028.166828  6.746645e+06  10047.732428\n",
            "min    6.820529e+18  1.770000e+04     323.000000  1.760000e+05    658.000000\n",
            "25%    6.843423e+18  1.886000e+05    3410.750000  1.010050e+06    941.500000\n",
            "50%    6.855444e+18  4.284500e+05    5385.000000  5.450000e+06   2582.500000\n",
            "75%    6.863305e+18  1.521925e+06   20907.250000  1.377500e+07  12824.000000\n",
            "max    6.879850e+18  2.800000e+06  105500.000000  1.630000e+07  25100.000000\n",
            "\n",
            "YouTube Dataset Statistics:\n",
            "               views         likes  comment_count\n",
            "count  4.037900e+04  4.037900e+04   4.037900e+04\n",
            "mean   2.370839e+06  7.461677e+04   8.287396e+03\n",
            "std    7.428515e+06  2.296172e+05   3.431605e+04\n",
            "min    5.490000e+02  0.000000e+00   0.000000e+00\n",
            "25%    2.470760e+05  5.621500e+03   6.230000e+02\n",
            "50%    6.895970e+05  1.837100e+04   1.874000e+03\n",
            "75%    1.834912e+06  5.567200e+04   5.787000e+03\n",
            "max    2.252119e+08  5.613827e+06   1.228655e+06\n"
          ]
        }
      ],
      "source": [
        "print(\"TikTok Dataset Statistics:\\n\", tiktok_df.describe())\n",
        "print(\"\\nYouTube Dataset Statistics:\\n\", youtube_df.describe())\n"
      ]
    },
    {
      "cell_type": "markdown",
      "id": "78275788",
      "metadata": {
        "id": "78275788"
      },
      "source": [
        "\n",
        "### **Data Visualization**\n",
        "Created scatter plots to explore the relationship between **views and likes** for TikTok and YouTube videos.\n"
      ]
    },
    {
      "cell_type": "code",
      "source": [
        "print(youtube_df.columns)\n",
        "print(youtube_df.dtypes)"
      ],
      "metadata": {
        "colab": {
          "base_uri": "https://localhost:8080/"
        },
        "id": "pHQDQFhPEFuL",
        "outputId": "2d5fa438-dde4-4f24-fa62-e553c18713ca"
      },
      "id": "pHQDQFhPEFuL",
      "execution_count": 27,
      "outputs": [
        {
          "output_type": "stream",
          "name": "stdout",
          "text": [
            "Index(['video_id', 'title', 'views', 'likes', 'comment_count'], dtype='object')\n",
            "video_id         object\n",
            "title            object\n",
            "views             int64\n",
            "likes             int64\n",
            "comment_count     int64\n",
            "dtype: object\n"
          ]
        }
      ]
    },
    {
      "cell_type": "code",
      "source": [
        "youtube_df.columns = youtube_df.columns.str.strip()\n",
        "print(\"views\" in youtube_df.columns)"
      ],
      "metadata": {
        "colab": {
          "base_uri": "https://localhost:8080/"
        },
        "id": "4c_VcgCKFK9Q",
        "outputId": "fcd52524-5cb4-49b3-dae2-6bef2c90d797"
      },
      "id": "4c_VcgCKFK9Q",
      "execution_count": 28,
      "outputs": [
        {
          "output_type": "stream",
          "name": "stdout",
          "text": [
            "True\n"
          ]
        }
      ]
    },
    {
      "cell_type": "code",
      "source": [
        "youtube_df = youtube_df.reset_index(drop=True)"
      ],
      "metadata": {
        "id": "fw8Pa9LiFXPJ"
      },
      "id": "fw8Pa9LiFXPJ",
      "execution_count": 29,
      "outputs": []
    },
    {
      "cell_type": "code",
      "source": [
        "print(youtube_df[['views', 'likes']].head())"
      ],
      "metadata": {
        "colab": {
          "base_uri": "https://localhost:8080/"
        },
        "id": "xE36PCBzFn_f",
        "outputId": "919dac68-efaf-4252-fb5d-5c8b522e55b6"
      },
      "id": "xE36PCBzFn_f",
      "execution_count": 30,
      "outputs": [
        {
          "output_type": "stream",
          "name": "stdout",
          "text": [
            "     views   likes\n",
            "0   748374   57527\n",
            "1  2418783   97185\n",
            "2  3191434  146033\n",
            "3   343168   10172\n",
            "4  2095731  132235\n"
          ]
        }
      ]
    },
    {
      "cell_type": "code",
      "source": [
        "import matplotlib.pyplot as plt\n",
        "\n",
        "plt.figure(figsize=(8,5))\n",
        "plt.scatter(youtube_df['views'].values, youtube_df['likes'].values, alpha=0.5, color='red', label=\"YouTube Videos\")\n",
        "plt.xlabel(\"Views\")\n",
        "plt.ylabel(\"Likes\")\n",
        "plt.title(\"YouTube Views vs. Likes\")\n",
        "plt.legend()\n",
        "plt.show()\n",
        "\n",
        "plt.figure(figsize=(8,5))\n",
        "plt.scatter(tiktok_df['n_plays'].values, tiktok_df['n_likes'].values, alpha=0.5, color='blue', label=\"TikTok Videos\")\n",
        "plt.xlabel(\"Views\")\n",
        "plt.ylabel(\"Likes\")\n",
        "plt.title(\"TikTok Views vs. Likes\")\n",
        "plt.legend()\n",
        "plt.show()\n",
        "\n"
      ],
      "metadata": {
        "colab": {
          "base_uri": "https://localhost:8080/",
          "height": 957
        },
        "id": "c0s7zwo-Frwk",
        "outputId": "1c058c07-bc7f-4a15-c142-65fd289620e5"
      },
      "id": "c0s7zwo-Frwk",
      "execution_count": 31,
      "outputs": [
        {
          "output_type": "display_data",
          "data": {
            "text/plain": [
              "<Figure size 800x500 with 1 Axes>"
            ],
            "image/png": "[encoded data removed]"
          },
          "metadata": {}
        },
        {
          "output_type": "display_data",
          "data": {
            "text/plain": [
              "<Figure size 800x500 with 1 Axes>"
            ],
            "image/png": "[encoded data removed]"
          },
          "metadata": {}
        }
      ]
    },
    {
      "cell_type": "markdown",
      "id": "a50f4074",
      "metadata": {
        "id": "a50f4074"
      },
      "source": [
        "\n",
        "## **6. GitHub Pages Deployment**\n",
        "The analysis results will be published on **GitHub Pages**. The repository link is:\n",
        "\n",
        "🔗 [GitHub Repository: YueWu3160](https://github.com/NoMooncake/YueWu3160)\n",
        "\n"
      ]
    },
    {
      "cell_type": "markdown",
      "id": "734136f8",
      "metadata": {
        "id": "734136f8"
      },
      "source": [
        "\n",
        "## **7. Conclusion**\n",
        "- Successfully loaded **TikTok & YouTube datasets**.\n",
        "- Conducted **basic ETL** (cleaning, transformation, filtering).\n",
        "- Computed **descriptive statistics** and generated **visualizations**.\n",
        "- The project will be hosted on **GitHub Pages**.\n"
      ]
    }
  ],
  "metadata": {
    "colab": {
      "provenance": []
    },
    "language_info": {
      "name": "python"
    },
    "kernelspec": {
      "name": "python3",
      "display_name": "Python 3"
    }
  },
  "nbformat": 4,
  "nbformat_minor": 5
}